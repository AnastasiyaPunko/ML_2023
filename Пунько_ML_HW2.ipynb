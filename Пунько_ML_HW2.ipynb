{
  "cells": [
    {
      "cell_type": "code",
      "execution_count": 1,
      "metadata": {
        "tags": [],
        "colab": {
          "base_uri": "https://localhost:8080/"
        },
        "id": "6G4LYZ4Ocf6U",
        "outputId": "6bcc569c-83cb-401e-f420-84f45895599d"
      },
      "outputs": [
        {
          "output_type": "stream",
          "name": "stderr",
          "text": [
            "[nltk_data] Downloading package punkt to /root/nltk_data...\n",
            "[nltk_data]   Package punkt is already up-to-date!\n"
          ]
        }
      ],
      "source": [
        "# импорты необходимых библиотек\n",
        "import pandas as pd\n",
        "\n",
        "import seaborn as sns\n",
        "import matplotlib.pyplot as plt\n",
        "# %matplotlib inline\n",
        "\n",
        "import gensim\n",
        "from gensim.models.doc2vec import Doc2Vec, TaggedDocument\n",
        "from sklearn.linear_model import LinearRegression, Ridge, Lasso\n",
        "from sklearn.preprocessing import StandardScaler\n",
        "from sklearn.model_selection import train_test_split\n",
        "from sklearn.metrics import mean_absolute_error, mean_squared_error\n",
        "from nltk.tokenize import word_tokenize, wordpunct_tokenize\n",
        "import nltk\n",
        "nltk.download('punkt')\n",
        "from sklearn.model_selection import GridSearchCV\n",
        "     "
      ]
    },
    {
      "cell_type": "code",
      "execution_count": 2,
      "metadata": {
        "tags": [],
        "colab": {
          "base_uri": "https://localhost:8080/",
          "height": 529
        },
        "id": "nbdBWt3Zcf6V",
        "outputId": "f398056e-20ee-4023-f3ca-82d94ee7c82a"
      },
      "outputs": [
        {
          "output_type": "stream",
          "name": "stdout",
          "text": [
            "(1000, 12)\n"
          ]
        },
        {
          "output_type": "execute_result",
          "data": {
            "text/plain": [
              "   Rank                    Title                     Genre  \\\n",
              "0     1  Guardians of the Galaxy   Action,Adventure,Sci-Fi   \n",
              "1     2               Prometheus  Adventure,Mystery,Sci-Fi   \n",
              "2     3                    Split           Horror,Thriller   \n",
              "\n",
              "                                         Description            Director  \\\n",
              "0  A group of intergalactic criminals are forced ...          James Gunn   \n",
              "1  Following clues to the origin of mankind, a te...        Ridley Scott   \n",
              "2  Three girls are kidnapped by a man with a diag...  M. Night Shyamalan   \n",
              "\n",
              "                                              Actors  Year  Runtime (Minutes)  \\\n",
              "0  Chris Pratt, Vin Diesel, Bradley Cooper, Zoe S...  2014                121   \n",
              "1  Noomi Rapace, Logan Marshall-Green, Michael Fa...  2012                124   \n",
              "2  James McAvoy, Anya Taylor-Joy, Haley Lu Richar...  2016                117   \n",
              "\n",
              "   Rating   Votes  Revenue (Millions)  Metascore  \n",
              "0     8.1  757074              333.13       76.0  \n",
              "1     7.0  485820              126.46       65.0  \n",
              "2     7.3  157606              138.12       62.0  "
            ],
            "text/html": [
              "\n",
              "  <div id=\"df-19caed6b-617b-4372-8539-e9cf602220e3\">\n",
              "    <div class=\"colab-df-container\">\n",
              "      <div>\n",
              "<style scoped>\n",
              "    .dataframe tbody tr th:only-of-type {\n",
              "        vertical-align: middle;\n",
              "    }\n",
              "\n",
              "    .dataframe tbody tr th {\n",
              "        vertical-align: top;\n",
              "    }\n",
              "\n",
              "    .dataframe thead th {\n",
              "        text-align: right;\n",
              "    }\n",
              "</style>\n",
              "<table border=\"1\" class=\"dataframe\">\n",
              "  <thead>\n",
              "    <tr style=\"text-align: right;\">\n",
              "      <th></th>\n",
              "      <th>Rank</th>\n",
              "      <th>Title</th>\n",
              "      <th>Genre</th>\n",
              "      <th>Description</th>\n",
              "      <th>Director</th>\n",
              "      <th>Actors</th>\n",
              "      <th>Year</th>\n",
              "      <th>Runtime (Minutes)</th>\n",
              "      <th>Rating</th>\n",
              "      <th>Votes</th>\n",
              "      <th>Revenue (Millions)</th>\n",
              "      <th>Metascore</th>\n",
              "    </tr>\n",
              "  </thead>\n",
              "  <tbody>\n",
              "    <tr>\n",
              "      <th>0</th>\n",
              "      <td>1</td>\n",
              "      <td>Guardians of the Galaxy</td>\n",
              "      <td>Action,Adventure,Sci-Fi</td>\n",
              "      <td>A group of intergalactic criminals are forced ...</td>\n",
              "      <td>James Gunn</td>\n",
              "      <td>Chris Pratt, Vin Diesel, Bradley Cooper, Zoe S...</td>\n",
              "      <td>2014</td>\n",
              "      <td>121</td>\n",
              "      <td>8.1</td>\n",
              "      <td>757074</td>\n",
              "      <td>333.13</td>\n",
              "      <td>76.0</td>\n",
              "    </tr>\n",
              "    <tr>\n",
              "      <th>1</th>\n",
              "      <td>2</td>\n",
              "      <td>Prometheus</td>\n",
              "      <td>Adventure,Mystery,Sci-Fi</td>\n",
              "      <td>Following clues to the origin of mankind, a te...</td>\n",
              "      <td>Ridley Scott</td>\n",
              "      <td>Noomi Rapace, Logan Marshall-Green, Michael Fa...</td>\n",
              "      <td>2012</td>\n",
              "      <td>124</td>\n",
              "      <td>7.0</td>\n",
              "      <td>485820</td>\n",
              "      <td>126.46</td>\n",
              "      <td>65.0</td>\n",
              "    </tr>\n",
              "    <tr>\n",
              "      <th>2</th>\n",
              "      <td>3</td>\n",
              "      <td>Split</td>\n",
              "      <td>Horror,Thriller</td>\n",
              "      <td>Three girls are kidnapped by a man with a diag...</td>\n",
              "      <td>M. Night Shyamalan</td>\n",
              "      <td>James McAvoy, Anya Taylor-Joy, Haley Lu Richar...</td>\n",
              "      <td>2016</td>\n",
              "      <td>117</td>\n",
              "      <td>7.3</td>\n",
              "      <td>157606</td>\n",
              "      <td>138.12</td>\n",
              "      <td>62.0</td>\n",
              "    </tr>\n",
              "  </tbody>\n",
              "</table>\n",
              "</div>\n",
              "      <button class=\"colab-df-convert\" onclick=\"convertToInteractive('df-19caed6b-617b-4372-8539-e9cf602220e3')\"\n",
              "              title=\"Convert this dataframe to an interactive table.\"\n",
              "              style=\"display:none;\">\n",
              "        \n",
              "  <svg xmlns=\"http://www.w3.org/2000/svg\" height=\"24px\"viewBox=\"0 0 24 24\"\n",
              "       width=\"24px\">\n",
              "    <path d=\"M0 0h24v24H0V0z\" fill=\"none\"/>\n",
              "    <path d=\"M18.56 5.44l.94 2.06.94-2.06 2.06-.94-2.06-.94-.94-2.06-.94 2.06-2.06.94zm-11 1L8.5 8.5l.94-2.06 2.06-.94-2.06-.94L8.5 2.5l-.94 2.06-2.06.94zm10 10l.94 2.06.94-2.06 2.06-.94-2.06-.94-.94-2.06-.94 2.06-2.06.94z\"/><path d=\"M17.41 7.96l-1.37-1.37c-.4-.4-.92-.59-1.43-.59-.52 0-1.04.2-1.43.59L10.3 9.45l-7.72 7.72c-.78.78-.78 2.05 0 2.83L4 21.41c.39.39.9.59 1.41.59.51 0 1.02-.2 1.41-.59l7.78-7.78 2.81-2.81c.8-.78.8-2.07 0-2.86zM5.41 20L4 18.59l7.72-7.72 1.47 1.35L5.41 20z\"/>\n",
              "  </svg>\n",
              "      </button>\n",
              "      \n",
              "  <style>\n",
              "    .colab-df-container {\n",
              "      display:flex;\n",
              "      flex-wrap:wrap;\n",
              "      gap: 12px;\n",
              "    }\n",
              "\n",
              "    .colab-df-convert {\n",
              "      background-color: #E8F0FE;\n",
              "      border: none;\n",
              "      border-radius: 50%;\n",
              "      cursor: pointer;\n",
              "      display: none;\n",
              "      fill: #1967D2;\n",
              "      height: 32px;\n",
              "      padding: 0 0 0 0;\n",
              "      width: 32px;\n",
              "    }\n",
              "\n",
              "    .colab-df-convert:hover {\n",
              "      background-color: #E2EBFA;\n",
              "      box-shadow: 0px 1px 2px rgba(60, 64, 67, 0.3), 0px 1px 3px 1px rgba(60, 64, 67, 0.15);\n",
              "      fill: #174EA6;\n",
              "    }\n",
              "\n",
              "    [theme=dark] .colab-df-convert {\n",
              "      background-color: #3B4455;\n",
              "      fill: #D2E3FC;\n",
              "    }\n",
              "\n",
              "    [theme=dark] .colab-df-convert:hover {\n",
              "      background-color: #434B5C;\n",
              "      box-shadow: 0px 1px 3px 1px rgba(0, 0, 0, 0.15);\n",
              "      filter: drop-shadow(0px 1px 2px rgba(0, 0, 0, 0.3));\n",
              "      fill: #FFFFFF;\n",
              "    }\n",
              "  </style>\n",
              "\n",
              "      <script>\n",
              "        const buttonEl =\n",
              "          document.querySelector('#df-19caed6b-617b-4372-8539-e9cf602220e3 button.colab-df-convert');\n",
              "        buttonEl.style.display =\n",
              "          google.colab.kernel.accessAllowed ? 'block' : 'none';\n",
              "\n",
              "        async function convertToInteractive(key) {\n",
              "          const element = document.querySelector('#df-19caed6b-617b-4372-8539-e9cf602220e3');\n",
              "          const dataTable =\n",
              "            await google.colab.kernel.invokeFunction('convertToInteractive',\n",
              "                                                     [key], {});\n",
              "          if (!dataTable) return;\n",
              "\n",
              "          const docLinkHtml = 'Like what you see? Visit the ' +\n",
              "            '<a target=\"_blank\" href=https://colab.research.google.com/notebooks/data_table.ipynb>data table notebook</a>'\n",
              "            + ' to learn more about interactive tables.';\n",
              "          element.innerHTML = '';\n",
              "          dataTable['output_type'] = 'display_data';\n",
              "          await google.colab.output.renderOutput(dataTable, element);\n",
              "          const docLink = document.createElement('div');\n",
              "          docLink.innerHTML = docLinkHtml;\n",
              "          element.appendChild(docLink);\n",
              "        }\n",
              "      </script>\n",
              "    </div>\n",
              "  </div>\n",
              "  "
            ]
          },
          "metadata": {},
          "execution_count": 2
        }
      ],
      "source": [
        "data = pd.read_csv('IMDB-Movie-Data.csv')\n",
        "print(data.shape)\n",
        "\n",
        "data.head(3)"
      ]
    },
    {
      "cell_type": "code",
      "execution_count": 3,
      "metadata": {
        "tags": [],
        "colab": {
          "base_uri": "https://localhost:8080/"
        },
        "id": "ZupFUkjzcf6X",
        "outputId": "2a82643c-b4ac-4af6-ed01-3682af0ded55"
      },
      "outputs": [
        {
          "output_type": "execute_result",
          "data": {
            "text/plain": [
              "Rank                  False\n",
              "Title                 False\n",
              "Genre                 False\n",
              "Description           False\n",
              "Director              False\n",
              "Actors                False\n",
              "Year                  False\n",
              "Runtime (Minutes)     False\n",
              "Rating                False\n",
              "Votes                 False\n",
              "Revenue (Millions)    False\n",
              "Metascore             False\n",
              "dtype: bool"
            ]
          },
          "metadata": {},
          "execution_count": 3
        }
      ],
      "source": [
        "#Превращаем NaN в средние значения по колонке\n",
        "\n",
        "# вычисляем средние для колонок с пустыми значениями\n",
        "meta_mean = data.Metascore.mean()\n",
        "rev_mean = data['Revenue (Millions)'].mean()\n",
        "\n",
        "#заменяем пустоты на средние значения\n",
        "data.Metascore.fillna(meta_mean, inplace=True)\n",
        "data['Revenue (Millions)'].fillna(rev_mean, inplace=True)\n",
        "\n",
        "# проверяем присутствие NaN\n",
        "data.isna().any()"
      ]
    },
    {
      "cell_type": "markdown",
      "metadata": {
        "id": "oNA5O-_Tcf6Y"
      },
      "source": [
        "## Подготовка данных\n",
        "\n",
        "Попробуем предсказывать рейтинг фильма по данным его описания, года, длины в минутах и кассовых сборов\n",
        "\n",
        "Колонка \"Rating\" станет **целевой переменной, или таргетом** (y)<br>\n",
        "Остальных данные будут **обучающей выборкой** (X)"
      ]
    },
    {
      "cell_type": "code",
      "execution_count": 4,
      "metadata": {
        "colab": {
          "base_uri": "https://localhost:8080/"
        },
        "id": "-GAnF6J9cf6Y",
        "outputId": "cf08d20b-31b9-49eb-c68a-f522fc8edbc2"
      },
      "outputs": [
        {
          "output_type": "execute_result",
          "data": {
            "text/plain": [
              "0      A group of intergalactic criminals are forced ...\n",
              "1      Following clues to the origin of mankind, a te...\n",
              "2      Three girls are kidnapped by a man with a diag...\n",
              "3      In a city of humanoid animals, a hustling thea...\n",
              "4      A secret government agency recruits some of th...\n",
              "                             ...                        \n",
              "995    A tight-knit team of rising investigators, alo...\n",
              "996    Three American college students studying abroa...\n",
              "997    Romantic sparks occur between two dance studen...\n",
              "998    A pair of friends embark on a mission to reuni...\n",
              "999    A stuffy businessman finds himself trapped ins...\n",
              "Name: Description, Length: 1000, dtype: object"
            ]
          },
          "metadata": {},
          "execution_count": 4
        }
      ],
      "source": [
        "data.Description"
      ]
    },
    {
      "cell_type": "code",
      "execution_count": 5,
      "metadata": {
        "tags": [],
        "colab": {
          "base_uri": "https://localhost:8080/"
        },
        "id": "5DUu5VPDcf6Y",
        "outputId": "3f20e88d-b9ba-44d3-ef9d-f68d844ae5f0"
      },
      "outputs": [
        {
          "output_type": "execute_result",
          "data": {
            "text/plain": [
              "0      [A, group, of, intergalactic, criminals, are, ...\n",
              "1      [Following, clues, to, the, origin, of, mankin...\n",
              "2      [Three, girls, are, kidnapped, by, a, man, wit...\n",
              "3      [In, a, city, of, humanoid, animals, ,, a, hus...\n",
              "4      [A, secret, government, agency, recruits, some...\n",
              "                             ...                        \n",
              "995    [A, tight-knit, team, of, rising, investigator...\n",
              "996    [Three, American, college, students, studying,...\n",
              "997    [Romantic, sparks, occur, between, two, dance,...\n",
              "998    [A, pair, of, friends, embark, on, a, mission,...\n",
              "999    [A, stuffy, businessman, finds, himself, trapp...\n",
              "Name: text, Length: 1000, dtype: object"
            ]
          },
          "metadata": {},
          "execution_count": 5
        }
      ],
      "source": [
        "# подготовим описания фильмов\n",
        "data[\"text\"] = data.Description.apply(lambda x: word_tokenize(x)) \n",
        "\n",
        "data[\"text\"]"
      ]
    },
    {
      "cell_type": "code",
      "execution_count": null,
      "metadata": {
        "tags": [],
        "id": "6AxLdLXBcf6Z"
      },
      "outputs": [],
      "source": [
        "data.text.values"
      ]
    },
    {
      "cell_type": "code",
      "execution_count": 7,
      "metadata": {
        "tags": [],
        "id": "jYV6ydZmcf6a"
      },
      "outputs": [],
      "source": [
        "input_text = list(data.text.values)"
      ]
    },
    {
      "cell_type": "code",
      "execution_count": 8,
      "metadata": {
        "tags": [],
        "colab": {
          "base_uri": "https://localhost:8080/"
        },
        "id": "THXEmaTDcf6a",
        "outputId": "a0220445-54f2-48d4-f11f-231db290da14"
      },
      "outputs": [
        {
          "output_type": "execute_result",
          "data": {
            "text/plain": [
              "[TaggedDocument(words=['The', 'adventures', 'of', 'writer', 'Newt', 'Scamander', 'in', 'New', 'York', \"'s\", 'secret', 'community', 'of', 'witches', 'and', 'wizards', 'seventy', 'years', 'before', 'Harry', 'Potter', 'reads', 'his', 'book', 'in', 'school', '.'], tags=[10]),\n",
              " TaggedDocument(words=['The', 'story', 'of', 'a', 'team', 'of', 'female', 'African-American', 'mathematicians', 'who', 'served', 'a', 'vital', 'role', 'in', 'NASA', 'during', 'the', 'early', 'years', 'of', 'the', 'U.S.', 'space', 'program', '.'], tags=[11])]"
            ]
          },
          "metadata": {},
          "execution_count": 8
        }
      ],
      "source": [
        "documents = [TaggedDocument(doc, [i]) for i, doc in enumerate(input_text)]\n",
        "documents[10:12]"
      ]
    },
    {
      "cell_type": "markdown",
      "metadata": {
        "id": "LxXwkswfcf6a"
      },
      "source": [
        "Обучаем модель на текстах описаний фильмов (можно поизменять параметры)"
      ]
    },
    {
      "cell_type": "code",
      "execution_count": 9,
      "metadata": {
        "colab": {
          "base_uri": "https://localhost:8080/"
        },
        "id": "nBsPuj7fcf6b",
        "outputId": "69db84b4-af52-4646-ce75-93aea8d81a4d"
      },
      "outputs": [
        {
          "output_type": "stream",
          "name": "stderr",
          "text": [
            "WARNING:gensim.models.base_any2vec:consider setting layer size to a multiple of 4 for greater performance\n",
            "WARNING:gensim.models.base_any2vec:under 10 jobs per worker: consider setting a smaller `batch_words' for smoother alpha decay\n"
          ]
        }
      ],
      "source": [
        "model = Doc2Vec(documents, vector_size=5, window=2, min_count=1, workers=4)"
      ]
    },
    {
      "cell_type": "code",
      "execution_count": 10,
      "metadata": {
        "id": "5S5sfNoCcf6b"
      },
      "outputs": [],
      "source": [
        "model.save(\"D2V.model\") # сохранение модели"
      ]
    },
    {
      "cell_type": "code",
      "execution_count": 11,
      "metadata": {
        "colab": {
          "base_uri": "https://localhost:8080/"
        },
        "id": "WIktmJRncf6c",
        "outputId": "1a05385d-1db1-4d9f-bbe6-5a49cee51592"
      },
      "outputs": [
        {
          "output_type": "execute_result",
          "data": {
            "text/plain": [
              "array([ 0.06857061,  0.0276906 , -0.0460314 , -0.00388521, -0.14361057],\n",
              "      dtype=float32)"
            ]
          },
          "metadata": {},
          "execution_count": 11
        }
      ],
      "source": [
        "# так можно посмотреть на векторы текстов, на которых училась модель\n",
        "# индекс [] около documents -- это индекс текста из датасета\n",
        "\n",
        "model[documents[0].tags[0]]\n"
      ]
    },
    {
      "cell_type": "markdown",
      "metadata": {
        "id": "XGS1oeKkcf6c"
      },
      "source": [
        "Теперь нужно добавить векторы в датасет с остальными параметрами"
      ]
    },
    {
      "cell_type": "code",
      "execution_count": 12,
      "metadata": {
        "id": "qlRjDYRbcf6c"
      },
      "outputs": [],
      "source": [
        "# создадим список с векторами для каждого текста\n",
        "vectors = []\n",
        "for x in documents:\n",
        "    vec = list(model[x.tags][0])\n",
        "    vectors.append(vec)"
      ]
    },
    {
      "cell_type": "code",
      "execution_count": 13,
      "metadata": {
        "tags": [],
        "colab": {
          "base_uri": "https://localhost:8080/",
          "height": 419
        },
        "id": "CeJa7daDcf6d",
        "outputId": "c566c428-b079-4acc-e393-c86e23d806c3"
      },
      "outputs": [
        {
          "output_type": "execute_result",
          "data": {
            "text/plain": [
              "           v1        v2        v3        v4        v5\n",
              "0    0.068571  0.027691 -0.046031 -0.003885 -0.143611\n",
              "1   -0.006890 -0.001286 -0.037979 -0.188008 -0.045070\n",
              "2    0.167416 -0.056082 -0.037573 -0.042474 -0.176787\n",
              "3    0.209401 -0.125601 -0.174734 -0.257231 -0.255892\n",
              "4    0.116167 -0.066425 -0.085169 -0.273545 -0.054744\n",
              "..        ...       ...       ...       ...       ...\n",
              "995  0.112158 -0.114053  0.003931 -0.068885 -0.087671\n",
              "996  0.121931 -0.005672 -0.000910 -0.134893 -0.120307\n",
              "997  0.092240  0.027331  0.036061 -0.072165 -0.019601\n",
              "998 -0.030691  0.069846 -0.055414 -0.134857  0.024631\n",
              "999 -0.071926  0.063847  0.000572 -0.037951 -0.021743\n",
              "\n",
              "[1000 rows x 5 columns]"
            ],
            "text/html": [
              "\n",
              "  <div id=\"df-9881bc76-2f97-47bd-aa99-8ad58b64a7dd\">\n",
              "    <div class=\"colab-df-container\">\n",
              "      <div>\n",
              "<style scoped>\n",
              "    .dataframe tbody tr th:only-of-type {\n",
              "        vertical-align: middle;\n",
              "    }\n",
              "\n",
              "    .dataframe tbody tr th {\n",
              "        vertical-align: top;\n",
              "    }\n",
              "\n",
              "    .dataframe thead th {\n",
              "        text-align: right;\n",
              "    }\n",
              "</style>\n",
              "<table border=\"1\" class=\"dataframe\">\n",
              "  <thead>\n",
              "    <tr style=\"text-align: right;\">\n",
              "      <th></th>\n",
              "      <th>v1</th>\n",
              "      <th>v2</th>\n",
              "      <th>v3</th>\n",
              "      <th>v4</th>\n",
              "      <th>v5</th>\n",
              "    </tr>\n",
              "  </thead>\n",
              "  <tbody>\n",
              "    <tr>\n",
              "      <th>0</th>\n",
              "      <td>0.068571</td>\n",
              "      <td>0.027691</td>\n",
              "      <td>-0.046031</td>\n",
              "      <td>-0.003885</td>\n",
              "      <td>-0.143611</td>\n",
              "    </tr>\n",
              "    <tr>\n",
              "      <th>1</th>\n",
              "      <td>-0.006890</td>\n",
              "      <td>-0.001286</td>\n",
              "      <td>-0.037979</td>\n",
              "      <td>-0.188008</td>\n",
              "      <td>-0.045070</td>\n",
              "    </tr>\n",
              "    <tr>\n",
              "      <th>2</th>\n",
              "      <td>0.167416</td>\n",
              "      <td>-0.056082</td>\n",
              "      <td>-0.037573</td>\n",
              "      <td>-0.042474</td>\n",
              "      <td>-0.176787</td>\n",
              "    </tr>\n",
              "    <tr>\n",
              "      <th>3</th>\n",
              "      <td>0.209401</td>\n",
              "      <td>-0.125601</td>\n",
              "      <td>-0.174734</td>\n",
              "      <td>-0.257231</td>\n",
              "      <td>-0.255892</td>\n",
              "    </tr>\n",
              "    <tr>\n",
              "      <th>4</th>\n",
              "      <td>0.116167</td>\n",
              "      <td>-0.066425</td>\n",
              "      <td>-0.085169</td>\n",
              "      <td>-0.273545</td>\n",
              "      <td>-0.054744</td>\n",
              "    </tr>\n",
              "    <tr>\n",
              "      <th>...</th>\n",
              "      <td>...</td>\n",
              "      <td>...</td>\n",
              "      <td>...</td>\n",
              "      <td>...</td>\n",
              "      <td>...</td>\n",
              "    </tr>\n",
              "    <tr>\n",
              "      <th>995</th>\n",
              "      <td>0.112158</td>\n",
              "      <td>-0.114053</td>\n",
              "      <td>0.003931</td>\n",
              "      <td>-0.068885</td>\n",
              "      <td>-0.087671</td>\n",
              "    </tr>\n",
              "    <tr>\n",
              "      <th>996</th>\n",
              "      <td>0.121931</td>\n",
              "      <td>-0.005672</td>\n",
              "      <td>-0.000910</td>\n",
              "      <td>-0.134893</td>\n",
              "      <td>-0.120307</td>\n",
              "    </tr>\n",
              "    <tr>\n",
              "      <th>997</th>\n",
              "      <td>0.092240</td>\n",
              "      <td>0.027331</td>\n",
              "      <td>0.036061</td>\n",
              "      <td>-0.072165</td>\n",
              "      <td>-0.019601</td>\n",
              "    </tr>\n",
              "    <tr>\n",
              "      <th>998</th>\n",
              "      <td>-0.030691</td>\n",
              "      <td>0.069846</td>\n",
              "      <td>-0.055414</td>\n",
              "      <td>-0.134857</td>\n",
              "      <td>0.024631</td>\n",
              "    </tr>\n",
              "    <tr>\n",
              "      <th>999</th>\n",
              "      <td>-0.071926</td>\n",
              "      <td>0.063847</td>\n",
              "      <td>0.000572</td>\n",
              "      <td>-0.037951</td>\n",
              "      <td>-0.021743</td>\n",
              "    </tr>\n",
              "  </tbody>\n",
              "</table>\n",
              "<p>1000 rows × 5 columns</p>\n",
              "</div>\n",
              "      <button class=\"colab-df-convert\" onclick=\"convertToInteractive('df-9881bc76-2f97-47bd-aa99-8ad58b64a7dd')\"\n",
              "              title=\"Convert this dataframe to an interactive table.\"\n",
              "              style=\"display:none;\">\n",
              "        \n",
              "  <svg xmlns=\"http://www.w3.org/2000/svg\" height=\"24px\"viewBox=\"0 0 24 24\"\n",
              "       width=\"24px\">\n",
              "    <path d=\"M0 0h24v24H0V0z\" fill=\"none\"/>\n",
              "    <path d=\"M18.56 5.44l.94 2.06.94-2.06 2.06-.94-2.06-.94-.94-2.06-.94 2.06-2.06.94zm-11 1L8.5 8.5l.94-2.06 2.06-.94-2.06-.94L8.5 2.5l-.94 2.06-2.06.94zm10 10l.94 2.06.94-2.06 2.06-.94-2.06-.94-.94-2.06-.94 2.06-2.06.94z\"/><path d=\"M17.41 7.96l-1.37-1.37c-.4-.4-.92-.59-1.43-.59-.52 0-1.04.2-1.43.59L10.3 9.45l-7.72 7.72c-.78.78-.78 2.05 0 2.83L4 21.41c.39.39.9.59 1.41.59.51 0 1.02-.2 1.41-.59l7.78-7.78 2.81-2.81c.8-.78.8-2.07 0-2.86zM5.41 20L4 18.59l7.72-7.72 1.47 1.35L5.41 20z\"/>\n",
              "  </svg>\n",
              "      </button>\n",
              "      \n",
              "  <style>\n",
              "    .colab-df-container {\n",
              "      display:flex;\n",
              "      flex-wrap:wrap;\n",
              "      gap: 12px;\n",
              "    }\n",
              "\n",
              "    .colab-df-convert {\n",
              "      background-color: #E8F0FE;\n",
              "      border: none;\n",
              "      border-radius: 50%;\n",
              "      cursor: pointer;\n",
              "      display: none;\n",
              "      fill: #1967D2;\n",
              "      height: 32px;\n",
              "      padding: 0 0 0 0;\n",
              "      width: 32px;\n",
              "    }\n",
              "\n",
              "    .colab-df-convert:hover {\n",
              "      background-color: #E2EBFA;\n",
              "      box-shadow: 0px 1px 2px rgba(60, 64, 67, 0.3), 0px 1px 3px 1px rgba(60, 64, 67, 0.15);\n",
              "      fill: #174EA6;\n",
              "    }\n",
              "\n",
              "    [theme=dark] .colab-df-convert {\n",
              "      background-color: #3B4455;\n",
              "      fill: #D2E3FC;\n",
              "    }\n",
              "\n",
              "    [theme=dark] .colab-df-convert:hover {\n",
              "      background-color: #434B5C;\n",
              "      box-shadow: 0px 1px 3px 1px rgba(0, 0, 0, 0.15);\n",
              "      filter: drop-shadow(0px 1px 2px rgba(0, 0, 0, 0.3));\n",
              "      fill: #FFFFFF;\n",
              "    }\n",
              "  </style>\n",
              "\n",
              "      <script>\n",
              "        const buttonEl =\n",
              "          document.querySelector('#df-9881bc76-2f97-47bd-aa99-8ad58b64a7dd button.colab-df-convert');\n",
              "        buttonEl.style.display =\n",
              "          google.colab.kernel.accessAllowed ? 'block' : 'none';\n",
              "\n",
              "        async function convertToInteractive(key) {\n",
              "          const element = document.querySelector('#df-9881bc76-2f97-47bd-aa99-8ad58b64a7dd');\n",
              "          const dataTable =\n",
              "            await google.colab.kernel.invokeFunction('convertToInteractive',\n",
              "                                                     [key], {});\n",
              "          if (!dataTable) return;\n",
              "\n",
              "          const docLinkHtml = 'Like what you see? Visit the ' +\n",
              "            '<a target=\"_blank\" href=https://colab.research.google.com/notebooks/data_table.ipynb>data table notebook</a>'\n",
              "            + ' to learn more about interactive tables.';\n",
              "          element.innerHTML = '';\n",
              "          dataTable['output_type'] = 'display_data';\n",
              "          await google.colab.output.renderOutput(dataTable, element);\n",
              "          const docLink = document.createElement('div');\n",
              "          docLink.innerHTML = docLinkHtml;\n",
              "          element.appendChild(docLink);\n",
              "        }\n",
              "      </script>\n",
              "    </div>\n",
              "  </div>\n",
              "  "
            ]
          },
          "metadata": {},
          "execution_count": 13
        }
      ],
      "source": [
        "# так получим датафрейм, где все компоненты векторов в отдельных столбцах\n",
        "split_df = pd.DataFrame(vectors,\n",
        "                        columns=['v1', 'v2', 'v3','v4',\"v5\"])\n",
        "\n",
        "split_df\n"
      ]
    },
    {
      "cell_type": "code",
      "execution_count": 14,
      "metadata": {
        "colab": {
          "base_uri": "https://localhost:8080/"
        },
        "id": "DcdoY5gDcf6d",
        "outputId": "44a99ae9-2e6e-4ad9-ce6f-ef94eaa19cce"
      },
      "outputs": [
        {
          "output_type": "execute_result",
          "data": {
            "text/plain": [
              "(1000, 18)"
            ]
          },
          "metadata": {},
          "execution_count": 14
        }
      ],
      "source": [
        "# теперь добавим его к основному датафрейму\n",
        "result = data.join(split_df, how='left')\n",
        "result.shape"
      ]
    },
    {
      "cell_type": "code",
      "execution_count": 15,
      "metadata": {
        "colab": {
          "base_uri": "https://localhost:8080/",
          "height": 1000
        },
        "id": "hngyiIw-cf6e",
        "outputId": "a6b71dcc-a0e8-4a3d-ad71-2d8fc1a525e2"
      },
      "outputs": [
        {
          "output_type": "execute_result",
          "data": {
            "text/plain": [
              "     Rank                    Title                     Genre  \\\n",
              "0       1  Guardians of the Galaxy   Action,Adventure,Sci-Fi   \n",
              "1       2               Prometheus  Adventure,Mystery,Sci-Fi   \n",
              "2       3                    Split           Horror,Thriller   \n",
              "3       4                     Sing   Animation,Comedy,Family   \n",
              "4       5            Suicide Squad  Action,Adventure,Fantasy   \n",
              "..    ...                      ...                       ...   \n",
              "995   996     Secret in Their Eyes       Crime,Drama,Mystery   \n",
              "996   997          Hostel: Part II                    Horror   \n",
              "997   998   Step Up 2: The Streets       Drama,Music,Romance   \n",
              "998   999             Search Party          Adventure,Comedy   \n",
              "999  1000               Nine Lives     Comedy,Family,Fantasy   \n",
              "\n",
              "                                           Description              Director  \\\n",
              "0    A group of intergalactic criminals are forced ...            James Gunn   \n",
              "1    Following clues to the origin of mankind, a te...          Ridley Scott   \n",
              "2    Three girls are kidnapped by a man with a diag...    M. Night Shyamalan   \n",
              "3    In a city of humanoid animals, a hustling thea...  Christophe Lourdelet   \n",
              "4    A secret government agency recruits some of th...            David Ayer   \n",
              "..                                                 ...                   ...   \n",
              "995  A tight-knit team of rising investigators, alo...             Billy Ray   \n",
              "996  Three American college students studying abroa...              Eli Roth   \n",
              "997  Romantic sparks occur between two dance studen...            Jon M. Chu   \n",
              "998  A pair of friends embark on a mission to reuni...        Scot Armstrong   \n",
              "999  A stuffy businessman finds himself trapped ins...      Barry Sonnenfeld   \n",
              "\n",
              "                                                Actors  Year  \\\n",
              "0    Chris Pratt, Vin Diesel, Bradley Cooper, Zoe S...  2014   \n",
              "1    Noomi Rapace, Logan Marshall-Green, Michael Fa...  2012   \n",
              "2    James McAvoy, Anya Taylor-Joy, Haley Lu Richar...  2016   \n",
              "3    Matthew McConaughey,Reese Witherspoon, Seth Ma...  2016   \n",
              "4    Will Smith, Jared Leto, Margot Robbie, Viola D...  2016   \n",
              "..                                                 ...   ...   \n",
              "995  Chiwetel Ejiofor, Nicole Kidman, Julia Roberts...  2015   \n",
              "996  Lauren German, Heather Matarazzo, Bijou Philli...  2007   \n",
              "997  Robert Hoffman, Briana Evigan, Cassie Ventura,...  2008   \n",
              "998  Adam Pally, T.J. Miller, Thomas Middleditch,Sh...  2014   \n",
              "999  Kevin Spacey, Jennifer Garner, Robbie Amell,Ch...  2016   \n",
              "\n",
              "     Runtime (Minutes)  Rating   Votes  Revenue (Millions)  Metascore  \\\n",
              "0                  121     8.1  757074          333.130000       76.0   \n",
              "1                  124     7.0  485820          126.460000       65.0   \n",
              "2                  117     7.3  157606          138.120000       62.0   \n",
              "3                  108     7.2   60545          270.320000       59.0   \n",
              "4                  123     6.2  393727          325.020000       40.0   \n",
              "..                 ...     ...     ...                 ...        ...   \n",
              "995                111     6.2   27585           82.956376       45.0   \n",
              "996                 94     5.5   73152           17.540000       46.0   \n",
              "997                 98     6.2   70699           58.010000       50.0   \n",
              "998                 93     5.6    4881           82.956376       22.0   \n",
              "999                 87     5.3   12435           19.640000       11.0   \n",
              "\n",
              "                                                  text        v1        v2  \\\n",
              "0    [A, group, of, intergalactic, criminals, are, ...  0.068571  0.027691   \n",
              "1    [Following, clues, to, the, origin, of, mankin... -0.006890 -0.001286   \n",
              "2    [Three, girls, are, kidnapped, by, a, man, wit...  0.167416 -0.056082   \n",
              "3    [In, a, city, of, humanoid, animals, ,, a, hus...  0.209401 -0.125601   \n",
              "4    [A, secret, government, agency, recruits, some...  0.116167 -0.066425   \n",
              "..                                                 ...       ...       ...   \n",
              "995  [A, tight-knit, team, of, rising, investigator...  0.112158 -0.114053   \n",
              "996  [Three, American, college, students, studying,...  0.121931 -0.005672   \n",
              "997  [Romantic, sparks, occur, between, two, dance,...  0.092240  0.027331   \n",
              "998  [A, pair, of, friends, embark, on, a, mission,... -0.030691  0.069846   \n",
              "999  [A, stuffy, businessman, finds, himself, trapp... -0.071926  0.063847   \n",
              "\n",
              "           v3        v4        v5  \n",
              "0   -0.046031 -0.003885 -0.143611  \n",
              "1   -0.037979 -0.188008 -0.045070  \n",
              "2   -0.037573 -0.042474 -0.176787  \n",
              "3   -0.174734 -0.257231 -0.255892  \n",
              "4   -0.085169 -0.273545 -0.054744  \n",
              "..        ...       ...       ...  \n",
              "995  0.003931 -0.068885 -0.087671  \n",
              "996 -0.000910 -0.134893 -0.120307  \n",
              "997  0.036061 -0.072165 -0.019601  \n",
              "998 -0.055414 -0.134857  0.024631  \n",
              "999  0.000572 -0.037951 -0.021743  \n",
              "\n",
              "[1000 rows x 18 columns]"
            ],
            "text/html": [
              "\n",
              "  <div id=\"df-4b7b26d3-3ee0-46aa-bec0-77e548fb4a82\">\n",
              "    <div class=\"colab-df-container\">\n",
              "      <div>\n",
              "<style scoped>\n",
              "    .dataframe tbody tr th:only-of-type {\n",
              "        vertical-align: middle;\n",
              "    }\n",
              "\n",
              "    .dataframe tbody tr th {\n",
              "        vertical-align: top;\n",
              "    }\n",
              "\n",
              "    .dataframe thead th {\n",
              "        text-align: right;\n",
              "    }\n",
              "</style>\n",
              "<table border=\"1\" class=\"dataframe\">\n",
              "  <thead>\n",
              "    <tr style=\"text-align: right;\">\n",
              "      <th></th>\n",
              "      <th>Rank</th>\n",
              "      <th>Title</th>\n",
              "      <th>Genre</th>\n",
              "      <th>Description</th>\n",
              "      <th>Director</th>\n",
              "      <th>Actors</th>\n",
              "      <th>Year</th>\n",
              "      <th>Runtime (Minutes)</th>\n",
              "      <th>Rating</th>\n",
              "      <th>Votes</th>\n",
              "      <th>Revenue (Millions)</th>\n",
              "      <th>Metascore</th>\n",
              "      <th>text</th>\n",
              "      <th>v1</th>\n",
              "      <th>v2</th>\n",
              "      <th>v3</th>\n",
              "      <th>v4</th>\n",
              "      <th>v5</th>\n",
              "    </tr>\n",
              "  </thead>\n",
              "  <tbody>\n",
              "    <tr>\n",
              "      <th>0</th>\n",
              "      <td>1</td>\n",
              "      <td>Guardians of the Galaxy</td>\n",
              "      <td>Action,Adventure,Sci-Fi</td>\n",
              "      <td>A group of intergalactic criminals are forced ...</td>\n",
              "      <td>James Gunn</td>\n",
              "      <td>Chris Pratt, Vin Diesel, Bradley Cooper, Zoe S...</td>\n",
              "      <td>2014</td>\n",
              "      <td>121</td>\n",
              "      <td>8.1</td>\n",
              "      <td>757074</td>\n",
              "      <td>333.130000</td>\n",
              "      <td>76.0</td>\n",
              "      <td>[A, group, of, intergalactic, criminals, are, ...</td>\n",
              "      <td>0.068571</td>\n",
              "      <td>0.027691</td>\n",
              "      <td>-0.046031</td>\n",
              "      <td>-0.003885</td>\n",
              "      <td>-0.143611</td>\n",
              "    </tr>\n",
              "    <tr>\n",
              "      <th>1</th>\n",
              "      <td>2</td>\n",
              "      <td>Prometheus</td>\n",
              "      <td>Adventure,Mystery,Sci-Fi</td>\n",
              "      <td>Following clues to the origin of mankind, a te...</td>\n",
              "      <td>Ridley Scott</td>\n",
              "      <td>Noomi Rapace, Logan Marshall-Green, Michael Fa...</td>\n",
              "      <td>2012</td>\n",
              "      <td>124</td>\n",
              "      <td>7.0</td>\n",
              "      <td>485820</td>\n",
              "      <td>126.460000</td>\n",
              "      <td>65.0</td>\n",
              "      <td>[Following, clues, to, the, origin, of, mankin...</td>\n",
              "      <td>-0.006890</td>\n",
              "      <td>-0.001286</td>\n",
              "      <td>-0.037979</td>\n",
              "      <td>-0.188008</td>\n",
              "      <td>-0.045070</td>\n",
              "    </tr>\n",
              "    <tr>\n",
              "      <th>2</th>\n",
              "      <td>3</td>\n",
              "      <td>Split</td>\n",
              "      <td>Horror,Thriller</td>\n",
              "      <td>Three girls are kidnapped by a man with a diag...</td>\n",
              "      <td>M. Night Shyamalan</td>\n",
              "      <td>James McAvoy, Anya Taylor-Joy, Haley Lu Richar...</td>\n",
              "      <td>2016</td>\n",
              "      <td>117</td>\n",
              "      <td>7.3</td>\n",
              "      <td>157606</td>\n",
              "      <td>138.120000</td>\n",
              "      <td>62.0</td>\n",
              "      <td>[Three, girls, are, kidnapped, by, a, man, wit...</td>\n",
              "      <td>0.167416</td>\n",
              "      <td>-0.056082</td>\n",
              "      <td>-0.037573</td>\n",
              "      <td>-0.042474</td>\n",
              "      <td>-0.176787</td>\n",
              "    </tr>\n",
              "    <tr>\n",
              "      <th>3</th>\n",
              "      <td>4</td>\n",
              "      <td>Sing</td>\n",
              "      <td>Animation,Comedy,Family</td>\n",
              "      <td>In a city of humanoid animals, a hustling thea...</td>\n",
              "      <td>Christophe Lourdelet</td>\n",
              "      <td>Matthew McConaughey,Reese Witherspoon, Seth Ma...</td>\n",
              "      <td>2016</td>\n",
              "      <td>108</td>\n",
              "      <td>7.2</td>\n",
              "      <td>60545</td>\n",
              "      <td>270.320000</td>\n",
              "      <td>59.0</td>\n",
              "      <td>[In, a, city, of, humanoid, animals, ,, a, hus...</td>\n",
              "      <td>0.209401</td>\n",
              "      <td>-0.125601</td>\n",
              "      <td>-0.174734</td>\n",
              "      <td>-0.257231</td>\n",
              "      <td>-0.255892</td>\n",
              "    </tr>\n",
              "    <tr>\n",
              "      <th>4</th>\n",
              "      <td>5</td>\n",
              "      <td>Suicide Squad</td>\n",
              "      <td>Action,Adventure,Fantasy</td>\n",
              "      <td>A secret government agency recruits some of th...</td>\n",
              "      <td>David Ayer</td>\n",
              "      <td>Will Smith, Jared Leto, Margot Robbie, Viola D...</td>\n",
              "      <td>2016</td>\n",
              "      <td>123</td>\n",
              "      <td>6.2</td>\n",
              "      <td>393727</td>\n",
              "      <td>325.020000</td>\n",
              "      <td>40.0</td>\n",
              "      <td>[A, secret, government, agency, recruits, some...</td>\n",
              "      <td>0.116167</td>\n",
              "      <td>-0.066425</td>\n",
              "      <td>-0.085169</td>\n",
              "      <td>-0.273545</td>\n",
              "      <td>-0.054744</td>\n",
              "    </tr>\n",
              "    <tr>\n",
              "      <th>...</th>\n",
              "      <td>...</td>\n",
              "      <td>...</td>\n",
              "      <td>...</td>\n",
              "      <td>...</td>\n",
              "      <td>...</td>\n",
              "      <td>...</td>\n",
              "      <td>...</td>\n",
              "      <td>...</td>\n",
              "      <td>...</td>\n",
              "      <td>...</td>\n",
              "      <td>...</td>\n",
              "      <td>...</td>\n",
              "      <td>...</td>\n",
              "      <td>...</td>\n",
              "      <td>...</td>\n",
              "      <td>...</td>\n",
              "      <td>...</td>\n",
              "      <td>...</td>\n",
              "    </tr>\n",
              "    <tr>\n",
              "      <th>995</th>\n",
              "      <td>996</td>\n",
              "      <td>Secret in Their Eyes</td>\n",
              "      <td>Crime,Drama,Mystery</td>\n",
              "      <td>A tight-knit team of rising investigators, alo...</td>\n",
              "      <td>Billy Ray</td>\n",
              "      <td>Chiwetel Ejiofor, Nicole Kidman, Julia Roberts...</td>\n",
              "      <td>2015</td>\n",
              "      <td>111</td>\n",
              "      <td>6.2</td>\n",
              "      <td>27585</td>\n",
              "      <td>82.956376</td>\n",
              "      <td>45.0</td>\n",
              "      <td>[A, tight-knit, team, of, rising, investigator...</td>\n",
              "      <td>0.112158</td>\n",
              "      <td>-0.114053</td>\n",
              "      <td>0.003931</td>\n",
              "      <td>-0.068885</td>\n",
              "      <td>-0.087671</td>\n",
              "    </tr>\n",
              "    <tr>\n",
              "      <th>996</th>\n",
              "      <td>997</td>\n",
              "      <td>Hostel: Part II</td>\n",
              "      <td>Horror</td>\n",
              "      <td>Three American college students studying abroa...</td>\n",
              "      <td>Eli Roth</td>\n",
              "      <td>Lauren German, Heather Matarazzo, Bijou Philli...</td>\n",
              "      <td>2007</td>\n",
              "      <td>94</td>\n",
              "      <td>5.5</td>\n",
              "      <td>73152</td>\n",
              "      <td>17.540000</td>\n",
              "      <td>46.0</td>\n",
              "      <td>[Three, American, college, students, studying,...</td>\n",
              "      <td>0.121931</td>\n",
              "      <td>-0.005672</td>\n",
              "      <td>-0.000910</td>\n",
              "      <td>-0.134893</td>\n",
              "      <td>-0.120307</td>\n",
              "    </tr>\n",
              "    <tr>\n",
              "      <th>997</th>\n",
              "      <td>998</td>\n",
              "      <td>Step Up 2: The Streets</td>\n",
              "      <td>Drama,Music,Romance</td>\n",
              "      <td>Romantic sparks occur between two dance studen...</td>\n",
              "      <td>Jon M. Chu</td>\n",
              "      <td>Robert Hoffman, Briana Evigan, Cassie Ventura,...</td>\n",
              "      <td>2008</td>\n",
              "      <td>98</td>\n",
              "      <td>6.2</td>\n",
              "      <td>70699</td>\n",
              "      <td>58.010000</td>\n",
              "      <td>50.0</td>\n",
              "      <td>[Romantic, sparks, occur, between, two, dance,...</td>\n",
              "      <td>0.092240</td>\n",
              "      <td>0.027331</td>\n",
              "      <td>0.036061</td>\n",
              "      <td>-0.072165</td>\n",
              "      <td>-0.019601</td>\n",
              "    </tr>\n",
              "    <tr>\n",
              "      <th>998</th>\n",
              "      <td>999</td>\n",
              "      <td>Search Party</td>\n",
              "      <td>Adventure,Comedy</td>\n",
              "      <td>A pair of friends embark on a mission to reuni...</td>\n",
              "      <td>Scot Armstrong</td>\n",
              "      <td>Adam Pally, T.J. Miller, Thomas Middleditch,Sh...</td>\n",
              "      <td>2014</td>\n",
              "      <td>93</td>\n",
              "      <td>5.6</td>\n",
              "      <td>4881</td>\n",
              "      <td>82.956376</td>\n",
              "      <td>22.0</td>\n",
              "      <td>[A, pair, of, friends, embark, on, a, mission,...</td>\n",
              "      <td>-0.030691</td>\n",
              "      <td>0.069846</td>\n",
              "      <td>-0.055414</td>\n",
              "      <td>-0.134857</td>\n",
              "      <td>0.024631</td>\n",
              "    </tr>\n",
              "    <tr>\n",
              "      <th>999</th>\n",
              "      <td>1000</td>\n",
              "      <td>Nine Lives</td>\n",
              "      <td>Comedy,Family,Fantasy</td>\n",
              "      <td>A stuffy businessman finds himself trapped ins...</td>\n",
              "      <td>Barry Sonnenfeld</td>\n",
              "      <td>Kevin Spacey, Jennifer Garner, Robbie Amell,Ch...</td>\n",
              "      <td>2016</td>\n",
              "      <td>87</td>\n",
              "      <td>5.3</td>\n",
              "      <td>12435</td>\n",
              "      <td>19.640000</td>\n",
              "      <td>11.0</td>\n",
              "      <td>[A, stuffy, businessman, finds, himself, trapp...</td>\n",
              "      <td>-0.071926</td>\n",
              "      <td>0.063847</td>\n",
              "      <td>0.000572</td>\n",
              "      <td>-0.037951</td>\n",
              "      <td>-0.021743</td>\n",
              "    </tr>\n",
              "  </tbody>\n",
              "</table>\n",
              "<p>1000 rows × 18 columns</p>\n",
              "</div>\n",
              "      <button class=\"colab-df-convert\" onclick=\"convertToInteractive('df-4b7b26d3-3ee0-46aa-bec0-77e548fb4a82')\"\n",
              "              title=\"Convert this dataframe to an interactive table.\"\n",
              "              style=\"display:none;\">\n",
              "        \n",
              "  <svg xmlns=\"http://www.w3.org/2000/svg\" height=\"24px\"viewBox=\"0 0 24 24\"\n",
              "       width=\"24px\">\n",
              "    <path d=\"M0 0h24v24H0V0z\" fill=\"none\"/>\n",
              "    <path d=\"M18.56 5.44l.94 2.06.94-2.06 2.06-.94-2.06-.94-.94-2.06-.94 2.06-2.06.94zm-11 1L8.5 8.5l.94-2.06 2.06-.94-2.06-.94L8.5 2.5l-.94 2.06-2.06.94zm10 10l.94 2.06.94-2.06 2.06-.94-2.06-.94-.94-2.06-.94 2.06-2.06.94z\"/><path d=\"M17.41 7.96l-1.37-1.37c-.4-.4-.92-.59-1.43-.59-.52 0-1.04.2-1.43.59L10.3 9.45l-7.72 7.72c-.78.78-.78 2.05 0 2.83L4 21.41c.39.39.9.59 1.41.59.51 0 1.02-.2 1.41-.59l7.78-7.78 2.81-2.81c.8-.78.8-2.07 0-2.86zM5.41 20L4 18.59l7.72-7.72 1.47 1.35L5.41 20z\"/>\n",
              "  </svg>\n",
              "      </button>\n",
              "      \n",
              "  <style>\n",
              "    .colab-df-container {\n",
              "      display:flex;\n",
              "      flex-wrap:wrap;\n",
              "      gap: 12px;\n",
              "    }\n",
              "\n",
              "    .colab-df-convert {\n",
              "      background-color: #E8F0FE;\n",
              "      border: none;\n",
              "      border-radius: 50%;\n",
              "      cursor: pointer;\n",
              "      display: none;\n",
              "      fill: #1967D2;\n",
              "      height: 32px;\n",
              "      padding: 0 0 0 0;\n",
              "      width: 32px;\n",
              "    }\n",
              "\n",
              "    .colab-df-convert:hover {\n",
              "      background-color: #E2EBFA;\n",
              "      box-shadow: 0px 1px 2px rgba(60, 64, 67, 0.3), 0px 1px 3px 1px rgba(60, 64, 67, 0.15);\n",
              "      fill: #174EA6;\n",
              "    }\n",
              "\n",
              "    [theme=dark] .colab-df-convert {\n",
              "      background-color: #3B4455;\n",
              "      fill: #D2E3FC;\n",
              "    }\n",
              "\n",
              "    [theme=dark] .colab-df-convert:hover {\n",
              "      background-color: #434B5C;\n",
              "      box-shadow: 0px 1px 3px 1px rgba(0, 0, 0, 0.15);\n",
              "      filter: drop-shadow(0px 1px 2px rgba(0, 0, 0, 0.3));\n",
              "      fill: #FFFFFF;\n",
              "    }\n",
              "  </style>\n",
              "\n",
              "      <script>\n",
              "        const buttonEl =\n",
              "          document.querySelector('#df-4b7b26d3-3ee0-46aa-bec0-77e548fb4a82 button.colab-df-convert');\n",
              "        buttonEl.style.display =\n",
              "          google.colab.kernel.accessAllowed ? 'block' : 'none';\n",
              "\n",
              "        async function convertToInteractive(key) {\n",
              "          const element = document.querySelector('#df-4b7b26d3-3ee0-46aa-bec0-77e548fb4a82');\n",
              "          const dataTable =\n",
              "            await google.colab.kernel.invokeFunction('convertToInteractive',\n",
              "                                                     [key], {});\n",
              "          if (!dataTable) return;\n",
              "\n",
              "          const docLinkHtml = 'Like what you see? Visit the ' +\n",
              "            '<a target=\"_blank\" href=https://colab.research.google.com/notebooks/data_table.ipynb>data table notebook</a>'\n",
              "            + ' to learn more about interactive tables.';\n",
              "          element.innerHTML = '';\n",
              "          dataTable['output_type'] = 'display_data';\n",
              "          await google.colab.output.renderOutput(dataTable, element);\n",
              "          const docLink = document.createElement('div');\n",
              "          docLink.innerHTML = docLinkHtml;\n",
              "          element.appendChild(docLink);\n",
              "        }\n",
              "      </script>\n",
              "    </div>\n",
              "  </div>\n",
              "  "
            ]
          },
          "metadata": {},
          "execution_count": 15
        }
      ],
      "source": [
        "result"
      ]
    },
    {
      "cell_type": "code",
      "execution_count": 16,
      "metadata": {
        "tags": [],
        "colab": {
          "base_uri": "https://localhost:8080/",
          "height": 203
        },
        "id": "wNO0_clpcf6e",
        "outputId": "f67d06b5-0e7b-47d6-8934-51c0c0075a7a"
      },
      "outputs": [
        {
          "output_type": "execute_result",
          "data": {
            "text/plain": [
              "   Runtime (Minutes)  Year  Rating   Votes  Revenue (Millions)  Metascore  \\\n",
              "0                121  2014     8.1  757074              333.13       76.0   \n",
              "1                124  2012     7.0  485820              126.46       65.0   \n",
              "2                117  2016     7.3  157606              138.12       62.0   \n",
              "\n",
              "         v1        v2        v3        v4        v5  \n",
              "0  0.068571  0.027691 -0.046031 -0.003885 -0.143611  \n",
              "1 -0.006890 -0.001286 -0.037979 -0.188008 -0.045070  \n",
              "2  0.167416 -0.056082 -0.037573 -0.042474 -0.176787  "
            ],
            "text/html": [
              "\n",
              "  <div id=\"df-a92ffc11-3eb0-4e22-9fcc-5ff1a12ada52\">\n",
              "    <div class=\"colab-df-container\">\n",
              "      <div>\n",
              "<style scoped>\n",
              "    .dataframe tbody tr th:only-of-type {\n",
              "        vertical-align: middle;\n",
              "    }\n",
              "\n",
              "    .dataframe tbody tr th {\n",
              "        vertical-align: top;\n",
              "    }\n",
              "\n",
              "    .dataframe thead th {\n",
              "        text-align: right;\n",
              "    }\n",
              "</style>\n",
              "<table border=\"1\" class=\"dataframe\">\n",
              "  <thead>\n",
              "    <tr style=\"text-align: right;\">\n",
              "      <th></th>\n",
              "      <th>Runtime (Minutes)</th>\n",
              "      <th>Year</th>\n",
              "      <th>Rating</th>\n",
              "      <th>Votes</th>\n",
              "      <th>Revenue (Millions)</th>\n",
              "      <th>Metascore</th>\n",
              "      <th>v1</th>\n",
              "      <th>v2</th>\n",
              "      <th>v3</th>\n",
              "      <th>v4</th>\n",
              "      <th>v5</th>\n",
              "    </tr>\n",
              "  </thead>\n",
              "  <tbody>\n",
              "    <tr>\n",
              "      <th>0</th>\n",
              "      <td>121</td>\n",
              "      <td>2014</td>\n",
              "      <td>8.1</td>\n",
              "      <td>757074</td>\n",
              "      <td>333.13</td>\n",
              "      <td>76.0</td>\n",
              "      <td>0.068571</td>\n",
              "      <td>0.027691</td>\n",
              "      <td>-0.046031</td>\n",
              "      <td>-0.003885</td>\n",
              "      <td>-0.143611</td>\n",
              "    </tr>\n",
              "    <tr>\n",
              "      <th>1</th>\n",
              "      <td>124</td>\n",
              "      <td>2012</td>\n",
              "      <td>7.0</td>\n",
              "      <td>485820</td>\n",
              "      <td>126.46</td>\n",
              "      <td>65.0</td>\n",
              "      <td>-0.006890</td>\n",
              "      <td>-0.001286</td>\n",
              "      <td>-0.037979</td>\n",
              "      <td>-0.188008</td>\n",
              "      <td>-0.045070</td>\n",
              "    </tr>\n",
              "    <tr>\n",
              "      <th>2</th>\n",
              "      <td>117</td>\n",
              "      <td>2016</td>\n",
              "      <td>7.3</td>\n",
              "      <td>157606</td>\n",
              "      <td>138.12</td>\n",
              "      <td>62.0</td>\n",
              "      <td>0.167416</td>\n",
              "      <td>-0.056082</td>\n",
              "      <td>-0.037573</td>\n",
              "      <td>-0.042474</td>\n",
              "      <td>-0.176787</td>\n",
              "    </tr>\n",
              "  </tbody>\n",
              "</table>\n",
              "</div>\n",
              "      <button class=\"colab-df-convert\" onclick=\"convertToInteractive('df-a92ffc11-3eb0-4e22-9fcc-5ff1a12ada52')\"\n",
              "              title=\"Convert this dataframe to an interactive table.\"\n",
              "              style=\"display:none;\">\n",
              "        \n",
              "  <svg xmlns=\"http://www.w3.org/2000/svg\" height=\"24px\"viewBox=\"0 0 24 24\"\n",
              "       width=\"24px\">\n",
              "    <path d=\"M0 0h24v24H0V0z\" fill=\"none\"/>\n",
              "    <path d=\"M18.56 5.44l.94 2.06.94-2.06 2.06-.94-2.06-.94-.94-2.06-.94 2.06-2.06.94zm-11 1L8.5 8.5l.94-2.06 2.06-.94-2.06-.94L8.5 2.5l-.94 2.06-2.06.94zm10 10l.94 2.06.94-2.06 2.06-.94-2.06-.94-.94-2.06-.94 2.06-2.06.94z\"/><path d=\"M17.41 7.96l-1.37-1.37c-.4-.4-.92-.59-1.43-.59-.52 0-1.04.2-1.43.59L10.3 9.45l-7.72 7.72c-.78.78-.78 2.05 0 2.83L4 21.41c.39.39.9.59 1.41.59.51 0 1.02-.2 1.41-.59l7.78-7.78 2.81-2.81c.8-.78.8-2.07 0-2.86zM5.41 20L4 18.59l7.72-7.72 1.47 1.35L5.41 20z\"/>\n",
              "  </svg>\n",
              "      </button>\n",
              "      \n",
              "  <style>\n",
              "    .colab-df-container {\n",
              "      display:flex;\n",
              "      flex-wrap:wrap;\n",
              "      gap: 12px;\n",
              "    }\n",
              "\n",
              "    .colab-df-convert {\n",
              "      background-color: #E8F0FE;\n",
              "      border: none;\n",
              "      border-radius: 50%;\n",
              "      cursor: pointer;\n",
              "      display: none;\n",
              "      fill: #1967D2;\n",
              "      height: 32px;\n",
              "      padding: 0 0 0 0;\n",
              "      width: 32px;\n",
              "    }\n",
              "\n",
              "    .colab-df-convert:hover {\n",
              "      background-color: #E2EBFA;\n",
              "      box-shadow: 0px 1px 2px rgba(60, 64, 67, 0.3), 0px 1px 3px 1px rgba(60, 64, 67, 0.15);\n",
              "      fill: #174EA6;\n",
              "    }\n",
              "\n",
              "    [theme=dark] .colab-df-convert {\n",
              "      background-color: #3B4455;\n",
              "      fill: #D2E3FC;\n",
              "    }\n",
              "\n",
              "    [theme=dark] .colab-df-convert:hover {\n",
              "      background-color: #434B5C;\n",
              "      box-shadow: 0px 1px 3px 1px rgba(0, 0, 0, 0.15);\n",
              "      filter: drop-shadow(0px 1px 2px rgba(0, 0, 0, 0.3));\n",
              "      fill: #FFFFFF;\n",
              "    }\n",
              "  </style>\n",
              "\n",
              "      <script>\n",
              "        const buttonEl =\n",
              "          document.querySelector('#df-a92ffc11-3eb0-4e22-9fcc-5ff1a12ada52 button.colab-df-convert');\n",
              "        buttonEl.style.display =\n",
              "          google.colab.kernel.accessAllowed ? 'block' : 'none';\n",
              "\n",
              "        async function convertToInteractive(key) {\n",
              "          const element = document.querySelector('#df-a92ffc11-3eb0-4e22-9fcc-5ff1a12ada52');\n",
              "          const dataTable =\n",
              "            await google.colab.kernel.invokeFunction('convertToInteractive',\n",
              "                                                     [key], {});\n",
              "          if (!dataTable) return;\n",
              "\n",
              "          const docLinkHtml = 'Like what you see? Visit the ' +\n",
              "            '<a target=\"_blank\" href=https://colab.research.google.com/notebooks/data_table.ipynb>data table notebook</a>'\n",
              "            + ' to learn more about interactive tables.';\n",
              "          element.innerHTML = '';\n",
              "          dataTable['output_type'] = 'display_data';\n",
              "          await google.colab.output.renderOutput(dataTable, element);\n",
              "          const docLink = document.createElement('div');\n",
              "          docLink.innerHTML = docLinkHtml;\n",
              "          element.appendChild(docLink);\n",
              "        }\n",
              "      </script>\n",
              "    </div>\n",
              "  </div>\n",
              "  "
            ]
          },
          "metadata": {},
          "execution_count": 16
        }
      ],
      "source": [
        "# переопределим датасет, оставив только важное\n",
        "\n",
        "data_sm = result[['Runtime (Minutes)',\"Year\",\n",
        "                'Rating', 'Votes',\n",
        "                'Revenue (Millions)','Metascore',\"v1\",\"v2\",\"v3\",\"v4\",\"v5\"]\n",
        "              ]\n",
        "\n",
        "\n",
        "data_sm.head(3)"
      ]
    },
    {
      "cell_type": "markdown",
      "metadata": {
        "id": "okZvSFnFcf6e"
      },
      "source": [
        "## Подготавливаем матрицы"
      ]
    },
    {
      "cell_type": "code",
      "execution_count": 17,
      "metadata": {
        "tags": [],
        "colab": {
          "base_uri": "https://localhost:8080/",
          "height": 255
        },
        "id": "w5VrtU0Hcf6e",
        "outputId": "b822efbb-0f47-4f85-be64-f062d943f5e3"
      },
      "outputs": [
        {
          "output_type": "display_data",
          "data": {
            "text/plain": [
              "array([[ 1.21000000e+02,  2.01400000e+03,  7.57074000e+05, ...,\n",
              "        -4.60313968e-02, -3.88521049e-03, -1.43610567e-01],\n",
              "       [ 1.24000000e+02,  2.01200000e+03,  4.85820000e+05, ...,\n",
              "        -3.79789770e-02, -1.88008219e-01, -4.50701714e-02],\n",
              "       [ 1.17000000e+02,  2.01600000e+03,  1.57606000e+05, ...,\n",
              "        -3.75726707e-02, -4.24740762e-02, -1.76786885e-01],\n",
              "       ...,\n",
              "       [ 9.80000000e+01,  2.00800000e+03,  7.06990000e+04, ...,\n",
              "         3.60606015e-02, -7.21652433e-02, -1.96013190e-02],\n",
              "       [ 9.30000000e+01,  2.01400000e+03,  4.88100000e+03, ...,\n",
              "        -5.54143377e-02, -1.34856567e-01,  2.46305019e-02],\n",
              "       [ 8.70000000e+01,  2.01600000e+03,  1.24350000e+04, ...,\n",
              "         5.71736251e-04, -3.79508696e-02, -2.17426792e-02]])"
            ]
          },
          "metadata": {}
        },
        {
          "output_type": "display_data",
          "data": {
            "text/plain": [
              "(1000, 10)"
            ]
          },
          "metadata": {}
        }
      ],
      "source": [
        "# определяем X и y\n",
        "\n",
        "X = data_sm.drop([\"Rating\"],axis=1).values \n",
        "\n",
        "display(X, X.shape)"
      ]
    },
    {
      "cell_type": "code",
      "execution_count": 18,
      "metadata": {
        "colab": {
          "base_uri": "https://localhost:8080/"
        },
        "id": "ZhSsurJBcf6f",
        "outputId": "52d94798-f318-49f4-8100-6def4411081d"
      },
      "outputs": [
        {
          "output_type": "execute_result",
          "data": {
            "text/plain": [
              "Runtime (Minutes)     False\n",
              "Year                  False\n",
              "Rating                False\n",
              "Votes                 False\n",
              "Revenue (Millions)    False\n",
              "Metascore             False\n",
              "v1                    False\n",
              "v2                    False\n",
              "v3                    False\n",
              "v4                    False\n",
              "v5                    False\n",
              "dtype: bool"
            ]
          },
          "metadata": {},
          "execution_count": 18
        }
      ],
      "source": [
        "data_sm.isna().any()"
      ]
    },
    {
      "cell_type": "code",
      "execution_count": 19,
      "metadata": {
        "tags": [],
        "colab": {
          "base_uri": "https://localhost:8080/"
        },
        "id": "zzo74scycf6f",
        "outputId": "c6f56601-1d3b-4505-e3a0-166a76c5c6c3"
      },
      "outputs": [
        {
          "output_type": "execute_result",
          "data": {
            "text/plain": [
              "(1000,)"
            ]
          },
          "metadata": {},
          "execution_count": 19
        }
      ],
      "source": [
        "y = data_sm['Rating'].values # отдельно вынесли массив со значениями скорости ветра\n",
        "y.shape"
      ]
    },
    {
      "cell_type": "code",
      "source": [
        "X_train, X_test, y_train, y_test = train_test_split(X, y, test_size=0.33, random_state=42)"
      ],
      "metadata": {
        "id": "DDRizxDW9xDR"
      },
      "execution_count": 20,
      "outputs": []
    },
    {
      "cell_type": "markdown",
      "source": [
        "# **Модели линейной регрессии**"
      ],
      "metadata": {
        "id": "tPnpTX5Bm4yq"
      }
    },
    {
      "cell_type": "markdown",
      "metadata": {
        "id": "bgMr7IM_cf6g"
      },
      "source": [
        "## **Linear**"
      ]
    },
    {
      "cell_type": "code",
      "source": [
        "regressor_linear = LinearRegression()\n",
        "regressor_linear.fit(X_train, y_train)\n",
        "\n",
        "y_preds_linear = regressor_linear.predict(X_test)"
      ],
      "metadata": {
        "id": "MOs41h3ljkUJ"
      },
      "execution_count": 21,
      "outputs": []
    },
    {
      "cell_type": "code",
      "source": [
        "print(mean_absolute_error(y_test, y_preds_linear))\n",
        "print(mean_squared_error(y_test, y_preds_linear))\n",
        "print(mean_squared_error(y_test, y_preds_linear, squared=False))"
      ],
      "metadata": {
        "colab": {
          "base_uri": "https://localhost:8080/"
        },
        "id": "utNSPvKMjp-x",
        "outputId": "2cf59821-cbbb-4be5-c6c3-bb11b2534dc0"
      },
      "execution_count": 22,
      "outputs": [
        {
          "output_type": "stream",
          "name": "stdout",
          "text": [
            "0.4858798599509143\n",
            "0.45343026500915634\n",
            "0.6733723078722174\n"
          ]
        }
      ]
    },
    {
      "cell_type": "markdown",
      "source": [
        "## **Ridge**"
      ],
      "metadata": {
        "id": "0YgADFs0jW5F"
      }
    },
    {
      "cell_type": "code",
      "execution_count": 23,
      "metadata": {
        "tags": [],
        "id": "ymGwZizicf6g"
      },
      "outputs": [],
      "source": [
        "# задаем модель регрессора\n",
        "# силу регуляризации можно варьировать параметром alpha\n",
        "regressor_ridge = Ridge() \n",
        "regressor_ridge.fit(X_train, y_train)\n",
        "\n",
        "y_preds_ridge = regressor_ridge.predict(X_test)"
      ]
    },
    {
      "cell_type": "code",
      "execution_count": 24,
      "metadata": {
        "colab": {
          "base_uri": "https://localhost:8080/"
        },
        "id": "RPUquJhtcf6h",
        "outputId": "684aa2cd-cdab-44c2-d8ce-ec0426b79253"
      },
      "outputs": [
        {
          "output_type": "stream",
          "name": "stdout",
          "text": [
            "0.48479647607115917\n",
            "0.45053468946627545\n",
            "0.671218808933626\n"
          ]
        }
      ],
      "source": [
        "print(mean_absolute_error(y_test, y_preds_ridge)) \n",
        "print(mean_squared_error(y_test, y_preds_ridge))\n",
        "print(mean_squared_error(y_test, y_preds_ridge, squared=False))"
      ]
    },
    {
      "cell_type": "code",
      "source": [
        "#Изменяем гиперпараметры\n",
        "grid = {\n",
        "    'alpha' : [0.001, 0.01, 0.1, 1, 3, 5, 7, 10, 20, 25, 27, 30, 33, 37, 40, 50, 100, 1000]\n",
        "}\n",
        "\n",
        "grid = GridSearchCV(\n",
        "    Ridge(), grid\n",
        ").fit(X_train, y_train)\n",
        "print(\"Best params:\", grid.best_params_)\n",
        "\n",
        "y_preds_ridge = grid.predict(X_test)"
      ],
      "metadata": {
        "colab": {
          "base_uri": "https://localhost:8080/"
        },
        "id": "CGjNs0XRyr5P",
        "outputId": "6346ae36-c459-48c7-ea60-5801bde5f599"
      },
      "execution_count": 25,
      "outputs": [
        {
          "output_type": "stream",
          "name": "stdout",
          "text": [
            "Best params: {'alpha': 1}\n"
          ]
        }
      ]
    },
    {
      "cell_type": "code",
      "source": [
        "print(mean_absolute_error(y_test, y_preds_ridge)) \n",
        "print(mean_squared_error(y_test, y_preds_ridge))\n",
        "print(mean_squared_error(y_test, y_preds_ridge, squared=False))"
      ],
      "metadata": {
        "colab": {
          "base_uri": "https://localhost:8080/"
        },
        "id": "I_grcw2h35R_",
        "outputId": "59254afc-b6d0-47b9-9235-7d1ddd3c1696"
      },
      "execution_count": 26,
      "outputs": [
        {
          "output_type": "stream",
          "name": "stdout",
          "text": [
            "0.48479647607115917\n",
            "0.45053468946627545\n",
            "0.671218808933626\n"
          ]
        }
      ]
    },
    {
      "cell_type": "markdown",
      "source": [
        "## **Lasso**"
      ],
      "metadata": {
        "id": "-S_z--QrjeM9"
      }
    },
    {
      "cell_type": "code",
      "source": [
        "regressor_lasso = Lasso()\n",
        "regressor_lasso.fit(X_train, y_train)\n",
        "\n",
        "y_preds_lasso = regressor_lasso.predict(X_test)"
      ],
      "metadata": {
        "id": "-UK1rMGCjdd1"
      },
      "execution_count": 27,
      "outputs": []
    },
    {
      "cell_type": "code",
      "source": [
        "print(mean_absolute_error(y_test, y_preds_lasso)) \n",
        "print(mean_squared_error(y_test, y_preds_lasso))\n",
        "print(mean_squared_error(y_test, y_preds_lasso, squared=False))"
      ],
      "metadata": {
        "colab": {
          "base_uri": "https://localhost:8080/"
        },
        "id": "eyJoJORXkg7g",
        "outputId": "c5d49d9d-cf85-4c51-ebda-373c3d49c266"
      },
      "execution_count": 28,
      "outputs": [
        {
          "output_type": "stream",
          "name": "stdout",
          "text": [
            "0.48710026839643117\n",
            "0.4558790040030374\n",
            "0.6751881248978223\n"
          ]
        }
      ]
    },
    {
      "cell_type": "code",
      "source": [
        "#Изменяем гиперпараметры\n",
        "grid = {\n",
        "    'alpha' : [0.001, 0.009, 0.01, 0.013, 0.015, 0.017, 0.02, 0.05, 0.07, 0.1, 1, 10, 100, 1000]\n",
        "}\n",
        "\n",
        "grid = GridSearchCV(\n",
        "    Lasso(), grid\n",
        ").fit(X_train, y_train)\n",
        "print(\"Best params:\", grid.best_params_)\n",
        "\n",
        "y_preds_lasso = grid.predict(X_test)"
      ],
      "metadata": {
        "colab": {
          "base_uri": "https://localhost:8080/"
        },
        "id": "BOLf7Mcw4htN",
        "outputId": "8cf0634c-6162-4bdb-960f-5e1f4ab609e9"
      },
      "execution_count": 29,
      "outputs": [
        {
          "output_type": "stream",
          "name": "stdout",
          "text": [
            "Best params: {'alpha': 0.001}\n"
          ]
        }
      ]
    },
    {
      "cell_type": "code",
      "source": [
        "print(mean_absolute_error(y_test, y_preds_lasso)) \n",
        "print(mean_squared_error(y_test, y_preds_lasso))\n",
        "print(mean_squared_error(y_test, y_preds_lasso, squared=False))"
      ],
      "metadata": {
        "colab": {
          "base_uri": "https://localhost:8080/"
        },
        "id": "k3Yge8ts40WG",
        "outputId": "464398e5-3ad8-4cf0-bc8d-bd4f54837d6c"
      },
      "execution_count": 30,
      "outputs": [
        {
          "output_type": "stream",
          "name": "stdout",
          "text": [
            "0.48475810404166936\n",
            "0.4500357423040647\n",
            "0.6708470334614774\n"
          ]
        }
      ]
    },
    {
      "cell_type": "markdown",
      "source": [
        "До нормализации:"
      ],
      "metadata": {
        "id": "lzU6ZxHx9Jnn"
      }
    },
    {
      "cell_type": "code",
      "source": [
        "list(X[0])"
      ],
      "metadata": {
        "colab": {
          "base_uri": "https://localhost:8080/"
        },
        "id": "LLic0luP9PKt",
        "outputId": "f8001ed1-7364-4626-8ebc-1ee19277aad5"
      },
      "execution_count": 31,
      "outputs": [
        {
          "output_type": "execute_result",
          "data": {
            "text/plain": [
              "[121.0,\n",
              " 2014.0,\n",
              " 757074.0,\n",
              " 333.13,\n",
              " 76.0,\n",
              " 0.06857060641050339,\n",
              " 0.027690596878528595,\n",
              " -0.046031396836042404,\n",
              " -0.0038852104917168617,\n",
              " -0.14361056685447693]"
            ]
          },
          "metadata": {},
          "execution_count": 31
        }
      ]
    },
    {
      "cell_type": "code",
      "source": [
        "# использзуем стандартизатор\n",
        "sc = StandardScaler()\n",
        "\n",
        "X_train, X_test, y_train, y_test = train_test_split(sc.fit_transform(X), y, random_state=42)"
      ],
      "metadata": {
        "id": "jdPXcnnI9UFy"
      },
      "execution_count": 32,
      "outputs": []
    },
    {
      "cell_type": "markdown",
      "source": [
        "После:"
      ],
      "metadata": {
        "id": "6oZw06Lz9Xnp"
      }
    },
    {
      "cell_type": "code",
      "source": [
        "list(sc.fit_transform(X)[0])"
      ],
      "metadata": {
        "colab": {
          "base_uri": "https://localhost:8080/"
        },
        "id": "5MQGcFGw9e7i",
        "outputId": "d94bb429-d8fd-442c-dfa2-ac686b3d0763"
      },
      "execution_count": 33,
      "outputs": [
        {
          "output_type": "execute_result",
          "data": {
            "text/plain": [
              "[0.4163497512303056,\n",
              " 0.37979525138136244,\n",
              " 3.1126899627963738,\n",
              " 2.5961363010556906,\n",
              " 1.0233613578368184,\n",
              " -0.8079010705813297,\n",
              " 0.9261981897369452,\n",
              " 0.44304708897284145,\n",
              " 1.769170023309538,\n",
              " -0.04031433689921781]"
            ]
          },
          "metadata": {},
          "execution_count": 33
        }
      ]
    },
    {
      "cell_type": "markdown",
      "source": [
        "Linear Regression"
      ],
      "metadata": {
        "id": "3Z2DsSp8-XzT"
      }
    },
    {
      "cell_type": "code",
      "source": [
        "regressor_linear = LinearRegression()\n",
        "regressor_linear.fit(X_train, y_train)\n",
        "\n",
        "y_preds_linear = regressor_linear.predict(X_test)\n",
        "\n",
        "print(mean_absolute_error(y_test, y_preds_linear))\n",
        "print(mean_squared_error(y_test, y_preds_linear))\n",
        "print(mean_squared_error(y_test, y_preds_linear, squared=False))"
      ],
      "metadata": {
        "colab": {
          "base_uri": "https://localhost:8080/"
        },
        "id": "vcmg1r5T-PHS",
        "outputId": "b5041173-5a17-4d5e-d843-79e935e29553"
      },
      "execution_count": 34,
      "outputs": [
        {
          "output_type": "stream",
          "name": "stdout",
          "text": [
            "0.48814671863781073\n",
            "0.47106495921584574\n",
            "0.686341721896495\n"
          ]
        }
      ]
    },
    {
      "cell_type": "markdown",
      "source": [
        "Ridge"
      ],
      "metadata": {
        "id": "SqHGIn-b-a3p"
      }
    },
    {
      "cell_type": "code",
      "source": [
        "regressor_ridge = Ridge() \n",
        "regressor_ridge.fit(X_train, y_train)\n",
        "\n",
        "y_preds_ridge = regressor_ridge.predict(X_test)\n",
        "\n",
        "print(mean_absolute_error(y_test, y_preds_ridge)) \n",
        "print(mean_squared_error(y_test, y_preds_ridge))\n",
        "print(mean_squared_error(y_test, y_preds_ridge, squared=False))"
      ],
      "metadata": {
        "colab": {
          "base_uri": "https://localhost:8080/"
        },
        "id": "XKDkuwHR-XK0",
        "outputId": "c1fc6453-dced-42b5-b2c9-655fa087353d"
      },
      "execution_count": 35,
      "outputs": [
        {
          "output_type": "stream",
          "name": "stdout",
          "text": [
            "0.4881444104870322\n",
            "0.4711160312655101\n",
            "0.686378926880415\n"
          ]
        }
      ]
    },
    {
      "cell_type": "code",
      "source": [
        "grid = {\n",
        "    'alpha' : [0.001, 0.01, 0.1, 1, 3, 5, 7, 10, 20, 25, 27, 30, 33, 37, 40, 50, 100, 1000]\n",
        "}\n",
        "\n",
        "grid = GridSearchCV(\n",
        "    Ridge(), grid\n",
        ").fit(X_train, y_train)\n",
        "print(\"Best params:\", grid.best_params_)\n",
        "\n",
        "y_preds_ridge = grid.predict(X_test)\n",
        "\n",
        "print(mean_absolute_error(y_test, y_preds_ridge)) \n",
        "print(mean_squared_error(y_test, y_preds_ridge))\n",
        "print(mean_squared_error(y_test, y_preds_ridge, squared=False))"
      ],
      "metadata": {
        "colab": {
          "base_uri": "https://localhost:8080/"
        },
        "id": "lpZHmMPP-We9",
        "outputId": "e43be842-dd89-419f-cee8-a597442651bb"
      },
      "execution_count": 36,
      "outputs": [
        {
          "output_type": "stream",
          "name": "stdout",
          "text": [
            "Best params: {'alpha': 20}\n",
            "0.4882202196004303\n",
            "0.4723111507045687\n",
            "0.6872489728654155\n"
          ]
        }
      ]
    },
    {
      "cell_type": "markdown",
      "source": [
        "Lasso"
      ],
      "metadata": {
        "id": "Q9kmzyjz-l_t"
      }
    },
    {
      "cell_type": "code",
      "source": [
        "regressor_lasso = Lasso()\n",
        "regressor_lasso.fit(X_train, y_train)\n",
        "\n",
        "y_preds_lasso = regressor_lasso.predict(X_test)\n",
        "\n",
        "print(mean_absolute_error(y_test, y_preds_lasso)) \n",
        "print(mean_squared_error(y_test, y_preds_lasso))\n",
        "print(mean_squared_error(y_test, y_preds_lasso, squared=False))"
      ],
      "metadata": {
        "colab": {
          "base_uri": "https://localhost:8080/"
        },
        "id": "0CdtI20z-pHu",
        "outputId": "c0032b83-1da0-46b4-9bf9-ae7adf1812f5"
      },
      "execution_count": 37,
      "outputs": [
        {
          "output_type": "stream",
          "name": "stdout",
          "text": [
            "0.7736000000000001\n",
            "0.9734313244444442\n",
            "0.9866262334057636\n"
          ]
        }
      ]
    },
    {
      "cell_type": "code",
      "source": [
        "grid = {\n",
        "    'alpha' : [0.001, 0.009, 0.01, 0.013, 0.015, 0.017, 0.02, 0.05, 0.07, 0.1, 1, 10, 100, 1000]\n",
        "}\n",
        "\n",
        "grid = GridSearchCV(\n",
        "    Lasso(), grid\n",
        ").fit(X_train, y_train)\n",
        "print(\"Best params:\", grid.best_params_)\n",
        "\n",
        "y_preds_lasso = grid.predict(X_test)\n",
        "\n",
        "print(mean_absolute_error(y_test, y_preds_lasso)) \n",
        "print(mean_squared_error(y_test, y_preds_lasso))\n",
        "print(mean_squared_error(y_test, y_preds_lasso, squared=False))"
      ],
      "metadata": {
        "colab": {
          "base_uri": "https://localhost:8080/"
        },
        "id": "AOZX-Y1K-vOT",
        "outputId": "2bc6744a-572d-4ae1-80a3-d01ebf4b2ec5"
      },
      "execution_count": 38,
      "outputs": [
        {
          "output_type": "stream",
          "name": "stdout",
          "text": [
            "Best params: {'alpha': 0.009}\n",
            "0.48627235050649836\n",
            "0.46948357826614456\n",
            "0.6851887172641888\n"
          ]
        }
      ]
    },
    {
      "cell_type": "markdown",
      "source": [
        "**Изменение гиперпараметра (параметра регуляризации alpha) никак не повлиял на метрики (MSE/RMSE/MAE) предсказательной силы моделей. Также как и токинизация и нормализация. Только в случае Lasso метрики были выше с нормализацией, но после подбора гиперпараметра снизились.**\n",
        "\n",
        "Lection metrics(Ridge):\n",
        "\n",
        "MAE - 0.48\n",
        "MSE - 0.46\n",
        "RMSE - 0.68\n",
        "\n",
        "My metrics(Токенизация, без нормализации):\n",
        "\n",
        "Linear regression\n",
        "MAE - 0.48\n",
        "MSE - 0.45\n",
        "RMSE - 0.67 \n",
        "\n",
        "Ridge\n",
        "MAE - 0.48\n",
        "MSE - 0.45\n",
        "RMSE - 0.67\n",
        "\n",
        "(Change alpha)\n",
        "MAE - 0.48\n",
        "MSE - 0.44\n",
        "RMSE - 0.67 \n",
        "\n",
        "Lasso\n",
        "MAE - 0.49\n",
        "MSE - 0.46\n",
        "RMSE - 0.68\n",
        "\n",
        "(Change alpha)\n",
        "MAE - 0.48\n",
        "MSE - 0.44\n",
        "RMSE - 0.66 \n",
        "\n",
        "My metrics(Токенизация, c нормализацией):\n",
        "\n",
        "Linear regression\n",
        "MAE - 0.49\n",
        "MSE - 0.47\n",
        "RMSE - 0.68\n",
        "\n",
        "Ridge\n",
        "MAE - 0.49\n",
        "MSE - 0.47\n",
        "RMSE - 0.68\n",
        "\n",
        "(Change alpha)\n",
        "MAE - 0.49\n",
        "MSE - 0.47\n",
        "RMSE - 0.68 \n",
        "\n",
        "Lasso\n",
        "MAE - 0.77\n",
        "MSE - 0.97\n",
        "RMSE - 0.99\n",
        "\n",
        "(Change alpha)\n",
        "MAE - 0.49\n",
        "MSE - 0.47\n",
        "RMSE - 0.68 "
      ],
      "metadata": {
        "id": "K0o7gu8u_X0Y"
      }
    }
  ],
  "metadata": {
    "kernelspec": {
      "display_name": "Python 3 (ipykernel)",
      "language": "python",
      "name": "python3"
    },
    "language_info": {
      "codemirror_mode": {
        "name": "ipython",
        "version": 3
      },
      "file_extension": ".py",
      "mimetype": "text/x-python",
      "name": "python",
      "nbconvert_exporter": "python",
      "pygments_lexer": "ipython3",
      "version": "3.10.0"
    },
    "colab": {
      "provenance": [],
      "toc_visible": true
    }
  },
  "nbformat": 4,
  "nbformat_minor": 0
}